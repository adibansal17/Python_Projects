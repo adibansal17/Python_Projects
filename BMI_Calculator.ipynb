{
 "cells": [
  {
   "cell_type": "markdown",
   "metadata": {},
   "source": [
    "# BMI Calculator\n",
    "\n",
    "BMI is a measurement of a person's leanness or corpulence based on their height and weight, and is intended to quantify tissue mass.\n",
    "\n",
    "### Calculations\n",
    "\n",
    "BMI = m/h^2<br>\n",
    "\n",
    "BMI =\tbody mass index <br>\n",
    "m\t=\tmass (in kilograms)<br>\n",
    "h\t=\theight (in meters)<br>\n",
    "\n",
    "BMI\tWeight                 Status<br>\n",
    "Below 18.5\t               Underweight<br>\n",
    "18.5 – 24.9\t               Normal or Healthy Weight<br>\n",
    "25.0 – 29.9\t               Overweight<br>\n",
    "30.0 and Above\t           Obese<br>\n"
   ]
  },
  {
   "cell_type": "code",
   "execution_count": 1,
   "metadata": {},
   "outputs": [
    {
     "name": "stdout",
     "output_type": "stream",
     "text": [
      "Enter your weight 61\n",
      "Enter your height 1.81\n",
      "Your B.M.I is 18.619700253350018\n",
      "You are Healthy!\n"
     ]
    }
   ],
   "source": [
    "m = float(input(\"Enter your weight \"))\n",
    "h = float(input(\"Enter your height \"))\n",
    "\n",
    "bmi = m/(h*h)\n",
    "print(f\"Your B.M.I is {bmi}\")\n",
    "\n",
    "if bmi>0:\n",
    "    if bmi<=16:\n",
    "        print(\"You are Severly Underweight!\")\n",
    "    elif bmi>16 and bmi<18.5:\n",
    "        print(\"You are Underweight!\")\n",
    "    elif bmi>=18.5 and bmi<=24.9:\n",
    "        print(\"You are Healthy!\")\n",
    "    elif bmi>=25 and bmi <=29.9:\n",
    "        print(\"You are Overweight!\")\n",
    "    else:\n",
    "        print(\"You are Obese!\")\n",
    "else:\n",
    "    print(\"Enter valid Details.\")\n",
    "    "
   ]
  },
  {
   "cell_type": "code",
   "execution_count": null,
   "metadata": {},
   "outputs": [],
   "source": []
  }
 ],
 "metadata": {
  "kernelspec": {
   "display_name": "Python 3",
   "language": "python",
   "name": "python3"
  },
  "language_info": {
   "codemirror_mode": {
    "name": "ipython",
    "version": 3
   },
   "file_extension": ".py",
   "mimetype": "text/x-python",
   "name": "python",
   "nbconvert_exporter": "python",
   "pygments_lexer": "ipython3",
   "version": "3.7.6"
  }
 },
 "nbformat": 4,
 "nbformat_minor": 4
}
