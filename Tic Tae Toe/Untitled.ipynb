{
 "cells": [
  {
   "cell_type": "code",
   "execution_count": null,
   "metadata": {},
   "outputs": [],
   "source": [
    "board = ['' for x in range(10)]\n",
    "\n",
    "def insertletter(letter,pos):\n",
    "    board[pos]= letter\n",
    "    \n",
    "def spacefree(pos):\n",
    "    return board[pos]== \" \"\n",
    "\n",
    "def printboard(board):\n",
    "    print(\"      |      |     \")\n",
    "    print(\"   \"+board[1]+\"   |   \"+board[2]+\"   |  \"+board[3]+\"   \")\n",
    "    print(\" ------------------\")\n",
    "    print(\"      |      |     \")\n",
    "    print(\"   \"+board[4]+\"   |   \"+board[5]+\"   |  \"+board[6]+\"   \")\n",
    "    print(\" ------------------\")\n",
    "    print(\"      |      |     \")\n",
    "    print(\"   \"+board[7]+\"   |   \"+board[8]+\"   |  \"+board[9]+\"   \")\n",
    "\n",
    "def isfull(pos):\n",
    "    if board.count(\" \")>1:\n",
    "        return False\n",
    "    else:\n",
    "        return True\n",
    "    \n",
    "def iswinner(b,l):\n",
    "    return (b[1]==l and b[2]==l and b[3]==l) or\n",
    "    (b[4]==l and b[5]==l and b[6]==l) or\n",
    "    (b[7]==l and b[8]==l and b[9]==l) or\n",
    "    (b[1]==l and b[4]==l and b[7]==l) or\n",
    "    (b[2]==l and b[5]==l and b[8]==l) or\n",
    "    (b[3]==l and b[6]==l and b[9]==l) or\n",
    "    (b[1]==l and b[5]==l and b[9]==l) or\n",
    "    (b[3]==l and b[5]==l and b[7]==l) \n",
    "\n",
    "def pmove:\n",
    "    run = True\n",
    "    while run:\n",
    "        move = input(\"Enter the position number (1-9) you want to enter: \")\n",
    "        try:\n",
    "            move = int(move)\n",
    "            if move>0 and move<10:\n",
    "                if(spacefree(move)):\n",
    "                    run = False\n",
    "                    insertletter('X', move)\n",
    "                else:\n",
    "                    print(\"Sorry, Space is occupied!\")\n",
    "            else:\n",
    "                print(\"Please type a number between 1-9\")\n",
    "                \n",
    "        except:\n",
    "            print(\"Please type a number!\")\n",
    "    "
   ]
  },
  {
   "cell_type": "code",
   "execution_count": null,
   "metadata": {},
   "outputs": [],
   "source": []
  }
 ],
 "metadata": {
  "kernelspec": {
   "display_name": "Python 3",
   "language": "python",
   "name": "python3"
  },
  "language_info": {
   "codemirror_mode": {
    "name": "ipython",
    "version": 3
   },
   "file_extension": ".py",
   "mimetype": "text/x-python",
   "name": "python",
   "nbconvert_exporter": "python",
   "pygments_lexer": "ipython3",
   "version": "3.7.6"
  }
 },
 "nbformat": 4,
 "nbformat_minor": 4
}
